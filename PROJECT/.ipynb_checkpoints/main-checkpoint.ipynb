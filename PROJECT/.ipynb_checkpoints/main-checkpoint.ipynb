{
 "cells": [
  {
   "cell_type": "code",
   "execution_count": 87,
   "metadata": {},
   "outputs": [],
   "source": [
    "import ipywidgets as widgets\n",
    "from ipywidgets import interact, interactive\n",
    "from IPython.display import display\n",
    "import traitlets\n",
    "import cv2 as cv\n",
    "import numpy as np\n",
    "import os\n",
    "import matplotlib.pyplot as plt"
   ]
  },
  {
   "cell_type": "code",
   "execution_count": 88,
   "metadata": {},
   "outputs": [],
   "source": [
    "early_DIR = '/Users/vorametchunvattananon/Desktop/Dev/OpenCV_Project/PROJECT/Potato/Train/Potato___Early_blight'   # total 300 images\n",
    "late_DIR = '/Users/vorametchunvattananon/Desktop/Dev/OpenCV_Project/PROJECT/Potato/Train/Potato___Late_blight'     # total 300 images\n",
    "healthy_DIR = '/Users/vorametchunvattananon/Desktop/Dev/OpenCV_Project/PROJECT/Potato/Train/Potato___healthy'      # total 300 images"
   ]
  },
  {
   "cell_type": "code",
   "execution_count": 89,
   "metadata": {},
   "outputs": [],
   "source": [
    "def read_file(path):\n",
    "    img_file_path = []\n",
    "    for img in os.listdir(path):\n",
    "        img_file_path.append(path + '/' + img)\n",
    "    \n",
    "    return img_file_path"
   ]
  },
  {
   "cell_type": "code",
   "execution_count": 127,
   "metadata": {},
   "outputs": [
    {
     "data": {
      "application/vnd.jupyter.widget-view+json": {
       "model_id": "d222a55d9f174dfa8b4f0ad326108d1a",
       "version_major": 2,
       "version_minor": 0
      },
      "text/plain": [
       "interactive(children=(Dropdown(description='leaf_type', options=(('Early Leaf', 1), ('Late Leaf', 2), ('Health…"
      ]
     },
     "metadata": {},
     "output_type": "display_data"
    }
   ],
   "source": [
    "early_img = read_file(early_DIR)\n",
    "late_img = read_file(late_DIR)\n",
    "healthy_img = read_file(healthy_DIR)\n",
    "\n",
    "def leaf_type(leaf_type):\n",
    "    \n",
    "    if leaf_type == 1:\n",
    "        img_set = early_img\n",
    "    elif leaf_type == 2:\n",
    "        img_set = late_img\n",
    "    elif leaf_type == 3:\n",
    "        img_set = healthy_img\n",
    "    return img_set\n",
    "\n",
    "leaf_type = interactive(leaf_type, leaf_type=[('Early Leaf',1), ('Late Leaf', 2), ('Healthy Leaf', 3)])\n",
    "display(leaf_type)"
   ]
  },
  {
   "cell_type": "code",
   "execution_count": 135,
   "metadata": {},
   "outputs": [],
   "source": [
    "img_set = leaf_type.result"
   ]
  },
  {
   "cell_type": "code",
   "execution_count": 136,
   "metadata": {},
   "outputs": [],
   "source": [
    "def read_img(num):\n",
    "    \n",
    "    img = cv.imread(img_set[num])\n",
    "    img = cv.cvtColor(img, cv.COLOR_BGR2RGB)\n",
    "    plt.imshow(img)\n",
    "    plt.show()"
   ]
  },
  {
   "cell_type": "code",
   "execution_count": 137,
   "metadata": {},
   "outputs": [
    {
     "data": {
      "application/vnd.jupyter.widget-view+json": {
       "model_id": "6f44283717e74b878dd2893cd4c28ebd",
       "version_major": 2,
       "version_minor": 0
      },
      "text/plain": [
       "interactive(children=(IntSlider(value=149, description='num', max=299), Output()), _dom_classes=('widget-inter…"
      ]
     },
     "metadata": {},
     "output_type": "display_data"
    }
   ],
   "source": [
    "w = interactive(read_img, num=(0, 299))\n",
    "display(w)"
   ]
  },
  {
   "cell_type": "code",
   "execution_count": 140,
   "metadata": {},
   "outputs": [],
   "source": []
  },
  {
   "cell_type": "code",
   "execution_count": null,
   "metadata": {},
   "outputs": [],
   "source": []
  }
 ],
 "metadata": {
  "kernelspec": {
   "display_name": "Python 3",
   "language": "python",
   "name": "python3"
  },
  "language_info": {
   "codemirror_mode": {
    "name": "ipython",
    "version": 3
   },
   "file_extension": ".py",
   "mimetype": "text/x-python",
   "name": "python",
   "nbconvert_exporter": "python",
   "pygments_lexer": "ipython3",
   "version": "3.8.5"
  }
 },
 "nbformat": 4,
 "nbformat_minor": 4
}
