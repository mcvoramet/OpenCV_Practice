{
 "cells": [
  {
   "cell_type": "code",
   "execution_count": 9,
   "metadata": {},
   "outputs": [],
   "source": [
    "import ipywidgets as widgets\n",
    "from ipywidgets import interact, interactive\n",
    "from IPython.display import display\n",
    "import traitlets\n",
    "import cv2 as cv\n",
    "import numpy as np\n",
    "import os\n",
    "import matplotlib.pyplot as plt\n",
    "from imgproc import leafsegmented\n",
    "from Cholophyllja import Cholophyll\n",
    "import seaborn as sns"
   ]
  },
  {
   "cell_type": "code",
   "execution_count": 2,
   "metadata": {},
   "outputs": [],
   "source": [
    "early_DIR = '/Users/vorametchunvattananon/Desktop/Dev/OpenCV_Project/PROJECT/Potato/Train/Potato___Early_blight'   # total 300 images\n",
    "late_DIR = '/Users/vorametchunvattananon/Desktop/Dev/OpenCV_Project/PROJECT/Potato/Train/Potato___Late_blight'     # total 300 images\n",
    "healthy_DIR = '/Users/vorametchunvattananon/Desktop/Dev/OpenCV_Project/PROJECT/Potato/Train/Potato___healthy'      # total 300 images"
   ]
  },
  {
   "cell_type": "code",
   "execution_count": 3,
   "metadata": {},
   "outputs": [],
   "source": [
    "def read_file(path):\n",
    "    img_file_path = []\n",
    "    for img in os.listdir(path):\n",
    "        img_file_path.append(path + '/' + img)\n",
    "    \n",
    "    return img_file_path\n",
    "\n",
    "early_img = read_file(early_DIR)\n",
    "late_img = read_file(late_DIR)\n",
    "healthy_img = read_file(healthy_DIR)"
   ]
  },
  {
   "cell_type": "code",
   "execution_count": 4,
   "metadata": {},
   "outputs": [
    {
     "name": "stdout",
     "output_type": "stream",
     "text": [
      "Select leaf type:\n"
     ]
    },
    {
     "data": {
      "application/vnd.jupyter.widget-view+json": {
       "model_id": "6857be1919ff402d9cd2a3500ff8538c",
       "version_major": 2,
       "version_minor": 0
      },
      "text/plain": [
       "interactive(children=(Dropdown(description='leaf_type', options=(('Early Leaf', 1), ('Late Leaf', 2), ('Health…"
      ]
     },
     "metadata": {},
     "output_type": "display_data"
    }
   ],
   "source": [
    "def leaf_type_func(leaf_type):\n",
    "    \n",
    "        if leaf_type == 1:\n",
    "            img_set = early_img\n",
    "        elif leaf_type == 2:\n",
    "            img_set = late_img\n",
    "        elif leaf_type == 3:\n",
    "            img_set = healthy_img\n",
    "        return img_set\n",
    "\n",
    "print('Select leaf type:')    \n",
    "leaf_type = interactive(leaf_type_func, leaf_type=[('Early Leaf',1), ('Late Leaf', 2), ('Healthy Leaf', 3)])\n",
    "display(leaf_type)"
   ]
  },
  {
   "cell_type": "code",
   "execution_count": 5,
   "metadata": {},
   "outputs": [
    {
     "data": {
      "application/vnd.jupyter.widget-view+json": {
       "model_id": "cd81d5258d5a41ac8408718670c38a2c",
       "version_major": 2,
       "version_minor": 0
      },
      "text/plain": [
       "interactive(children=(IntSlider(value=149, description='img_num', max=299), Output()), _dom_classes=('widget-i…"
      ]
     },
     "metadata": {},
     "output_type": "display_data"
    }
   ],
   "source": [
    "img_set = leaf_type.result\n",
    "\n",
    "def read_img(img_num):\n",
    "    \n",
    "    img = cv.imread(img_set[img_num])\n",
    "    result = leafsegmented(img)\n",
    "    result = cv.cvtColor(result, cv.COLOR_BGR2RGB)\n",
    "    img = cv.cvtColor(img, cv.COLOR_BGR2RGB)\n",
    "    plt.subplot(121)\n",
    "    plt.imshow(img)\n",
    "    plt.subplot(122)\n",
    "    plt.imshow(result)\n",
    "    plt.show()\n",
    "    \n",
    "    ch = Cholophyll(result)\n",
    "    print(f'R: {round(ch[0],2)}')\n",
    "    print(f'G: {round(ch[1],2)}')\n",
    "    print(f'B: {round(ch[2],2)}')\n",
    "    print(f'Cholophyll Value: {round(ch[3],2)}')\n",
    "    \n",
    "    \n",
    "w = interactive(read_img, img_num=(0, 299))\n",
    "display(w)\n"
   ]
  },
  {
   "cell_type": "code",
   "execution_count": 6,
   "metadata": {},
   "outputs": [],
   "source": [
    "def get_ch(img_set):\n",
    "\n",
    "    ch_val = []\n",
    "    \n",
    "    for img in img_set:\n",
    "        img = cv.imread(img)\n",
    "        result = leafsegmented(img)\n",
    "        result = cv.cvtColor(result, cv.COLOR_BGR2RGB)\n",
    "        ch = Cholophyll(result)\n",
    "        ch_val.append(ch[3])\n",
    "        \n",
    "    return ch_val\n",
    "\n",
    "   "
   ]
  },
  {
   "cell_type": "code",
   "execution_count": 7,
   "metadata": {},
   "outputs": [],
   "source": [
    "early_ch = get_ch(early_img)\n",
    "late_ch = get_ch(late_img)\n",
    "healthy_ch = get_ch(healthy_img)"
   ]
  },
  {
   "cell_type": "code",
   "execution_count": 25,
   "metadata": {},
   "outputs": [
    {
     "name": "stderr",
     "output_type": "stream",
     "text": [
      "/Users/vorametchunvattananon/opt/anaconda3/lib/python3.8/site-packages/seaborn/distributions.py:2551: FutureWarning: `distplot` is a deprecated function and will be removed in a future version. Please adapt your code to use either `displot` (a figure-level function with similar flexibility) or `histplot` (an axes-level function for histograms).\n",
      "  warnings.warn(msg, FutureWarning)\n",
      "/Users/vorametchunvattananon/opt/anaconda3/lib/python3.8/site-packages/seaborn/distributions.py:2551: FutureWarning: `distplot` is a deprecated function and will be removed in a future version. Please adapt your code to use either `displot` (a figure-level function with similar flexibility) or `histplot` (an axes-level function for histograms).\n",
      "  warnings.warn(msg, FutureWarning)\n",
      "/Users/vorametchunvattananon/opt/anaconda3/lib/python3.8/site-packages/seaborn/distributions.py:2551: FutureWarning: `distplot` is a deprecated function and will be removed in a future version. Please adapt your code to use either `displot` (a figure-level function with similar flexibility) or `histplot` (an axes-level function for histograms).\n",
      "  warnings.warn(msg, FutureWarning)\n"
     ]
    },
    {
     "data": {
      "image/png": "[encoded data removed]",
      "text/plain": [
       "<Figure size 1000x300 with 3 Axes>"
      ]
     },
     "metadata": {
      "needs_background": "light"
     },
     "output_type": "display_data"
    },
    {
     "name": "stdout",
     "output_type": "stream",
     "text": [
      "Cholophyll Value Statistics \n",
      "\n",
      "Early Leaf\n",
      "Mean: 39.43\n",
      "Variance: 47.41 \n",
      "\n",
      "Late Leaf\n",
      "Mean: 45.21\n",
      "Variance: 37.06 \n",
      "\n",
      "Healthy Leaf\n",
      "Mean: 49.22\n",
      "Variance: 6.91\n"
     ]
    }
   ],
   "source": [
    "early_ch_mean = np.mean(early_ch)\n",
    "late_ch_mean = np.mean(late_ch)\n",
    "healthy_ch_mean = np.mean(healthy_ch)\n",
    "early_ch_var = np.var(early_ch)\n",
    "late_ch_var = np.var(late_ch)\n",
    "healthy_ch_var = np.var(healthy_ch)\n",
    "\n",
    "fig, axes = plt.subplots(1, 3, figsize=(10, 3), sharey=True, dpi=100)\n",
    "fig.suptitle('Cholophyll Distribution')\n",
    "sns.distplot(early_ch , color=\"dodgerblue\", ax=axes[0], axlabel='Early Leaf', )\n",
    "sns.distplot(late_ch , color=\"deeppink\", ax=axes[1], axlabel='Late Leaf')\n",
    "sns.distplot(healthy_ch , color=\"gold\", ax=axes[2], axlabel='Healthy Leaf')\n",
    "plt.show()\n",
    "\n",
    "print('Cholophyll Value Statistics \\n')\n",
    "print('Early Leaf')\n",
    "print(f'Mean: {round(early_ch_mean,2)}')\n",
    "print(f'Variance: {round(early_ch_var,2)} \\n')\n",
    "      \n",
    "print('Late Leaf')\n",
    "print(f'Mean: {round(late_ch_mean,2)}')\n",
    "print(f'Variance: {round(late_ch_var,2)} \\n')\n",
    "\n",
    "print('Healthy Leaf')\n",
    "print(f'Mean: {round(healthy_ch_mean,2)}')\n",
    "print(f'Variance: {round(healthy_ch_var,2)}')      \n"
   ]
  },
  {
   "cell_type": "code",
   "execution_count": null,
   "metadata": {},
   "outputs": [],
   "source": []
  },
  {
   "cell_type": "code",
   "execution_count": null,
   "metadata": {},
   "outputs": [],
   "source": []
  }
 ],
 "metadata": {
  "kernelspec": {
   "display_name": "Python 3",
   "language": "python",
   "name": "python3"
  },
  "language_info": {
   "codemirror_mode": {
    "name": "ipython",
    "version": 3
   },
   "file_extension": ".py",
   "mimetype": "text/x-python",
   "name": "python",
   "nbconvert_exporter": "python",
   "pygments_lexer": "ipython3",
   "version": "3.8.5"
  }
 },
 "nbformat": 4,
 "nbformat_minor": 4
}
