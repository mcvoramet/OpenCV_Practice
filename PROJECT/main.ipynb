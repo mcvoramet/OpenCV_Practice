{
 "cells": [
  {
   "cell_type": "code",
   "execution_count": 1,
   "metadata": {},
   "outputs": [],
   "source": [
    "import ipywidgets as widgets\n",
    "from ipywidgets import interact, interactive\n",
    "from IPython.display import display\n",
    "import traitlets\n",
    "import cv2 as cv\n",
    "import numpy as np\n",
    "import os\n",
    "import matplotlib.pyplot as plt\n",
    "from imgproc import leafsegmented\n",
    "from Cholophyllja import Cholophyll"
   ]
  },
  {
   "cell_type": "code",
   "execution_count": 2,
   "metadata": {},
   "outputs": [],
   "source": [
    "early_DIR = '/Users/vorametchunvattananon/Desktop/Dev/OpenCV_Project/PROJECT/Potato/Train/Potato___Early_blight'   # total 300 images\n",
    "late_DIR = '/Users/vorametchunvattananon/Desktop/Dev/OpenCV_Project/PROJECT/Potato/Train/Potato___Late_blight'     # total 300 images\n",
    "healthy_DIR = '/Users/vorametchunvattananon/Desktop/Dev/OpenCV_Project/PROJECT/Potato/Train/Potato___healthy'      # total 300 images"
   ]
  },
  {
   "cell_type": "code",
   "execution_count": 3,
   "metadata": {},
   "outputs": [],
   "source": [
    "def read_file(path):\n",
    "    img_file_path = []\n",
    "    for img in os.listdir(path):\n",
    "        img_file_path.append(path + '/' + img)\n",
    "    \n",
    "    return img_file_path\n",
    "\n",
    "early_img = read_file(early_DIR)\n",
    "late_img = read_file(late_DIR)\n",
    "healthy_img = read_file(healthy_DIR)"
   ]
  },
  {
   "cell_type": "code",
   "execution_count": 10,
   "metadata": {},
   "outputs": [
    {
     "name": "stdout",
     "output_type": "stream",
     "text": [
      "Select leaf type:\n"
     ]
    },
    {
     "data": {
      "application/vnd.jupyter.widget-view+json": {
       "model_id": "5199839bbb00444892a640cd1d28a7a5",
       "version_major": 2,
       "version_minor": 0
      },
      "text/plain": [
       "interactive(children=(Dropdown(description='leaf_type', options=(('Early Leaf', 1), ('Late Leaf', 2), ('Health…"
      ]
     },
     "metadata": {},
     "output_type": "display_data"
    }
   ],
   "source": [
    "def leaf_type_func(leaf_type):\n",
    "    \n",
    "        if leaf_type == 1:\n",
    "            img_set = early_img\n",
    "        elif leaf_type == 2:\n",
    "            img_set = late_img\n",
    "        elif leaf_type == 3:\n",
    "            img_set = healthy_img\n",
    "        return img_set\n",
    "\n",
    "print('Select leaf type:')    \n",
    "leaf_type = interactive(leaf_type_func, leaf_type=[('Early Leaf',1), ('Late Leaf', 2), ('Healthy Leaf', 3)])\n",
    "display(leaf_type)"
   ]
  },
  {
   "cell_type": "code",
   "execution_count": 17,
   "metadata": {},
   "outputs": [
    {
     "data": {
      "application/vnd.jupyter.widget-view+json": {
       "model_id": "04139e4cb42042fb811d87245dbfeee3",
       "version_major": 2,
       "version_minor": 0
      },
      "text/plain": [
       "interactive(children=(IntSlider(value=149, description='img_num', max=299), Output()), _dom_classes=('widget-i…"
      ]
     },
     "metadata": {},
     "output_type": "display_data"
    }
   ],
   "source": [
    "img_set = leaf_type.result\n",
    "\n",
    "def read_img(img_num):\n",
    "    \n",
    "    img = cv.imread(img_set[img_num])\n",
    "    result = leafsegmented(img)\n",
    "    result = cv.cvtColor(result, cv.COLOR_BGR2RGB)\n",
    "    img = cv.cvtColor(img, cv.COLOR_BGR2RGB)\n",
    "    plt.subplot(121)\n",
    "    plt.imshow(img)\n",
    "    plt.subplot(122)\n",
    "    plt.imshow(result)\n",
    "    plt.show()\n",
    "    \n",
    "    ch = Cholophyll(result)\n",
    "    print(f'R: {round(ch[0],2)}')\n",
    "    print(f'G: {round(ch[1],2)}')\n",
    "    print(f'B: {round(ch[2],2)}')\n",
    "    print(f'Cholophyll Value: {round(ch[3],2)}')\n",
    "    \n",
    "    \n",
    "w = interactive(read_img, img_num=(0, 299))\n",
    "display(w)\n"
   ]
  },
  {
   "cell_type": "code",
   "execution_count": 57,
   "metadata": {},
   "outputs": [],
   "source": [
    "def get_ch(img_set):\n",
    "\n",
    "    ch_val = []\n",
    "    \n",
    "    for img in img_set:\n",
    "        img = cv.imread(img)\n",
    "        result = leafsegmented(img)\n",
    "        result = cv.cvtColor(result, cv.COLOR_BGR2RGB)\n",
    "        ch = Cholophyll(result)\n",
    "        ch_val.append(ch[3])\n",
    "        \n",
    "    return ch_val\n",
    "\n",
    "   "
   ]
  },
  {
   "cell_type": "code",
   "execution_count": 58,
   "metadata": {},
   "outputs": [],
   "source": [
    "early_ch = get_ch(early_img)\n",
    "late_ch = get_ch(late_img)\n",
    "healthy_ch = get_ch(healthy_img)"
   ]
  },
  {
   "cell_type": "code",
   "execution_count": 70,
   "metadata": {},
   "outputs": [
    {
     "data": {
      "image/png": "[encoded data removed]",
      "text/plain": [
       "<Figure size 432x288 with 3 Axes>"
      ]
     },
     "metadata": {
      "needs_background": "light"
     },
     "output_type": "display_data"
    }
   ],
   "source": [
    "fig, axs = plt.subplots(3)\n",
    "fig.suptitle('Cholophyll Distribution')\n",
    "axs[0].hist(early_ch, bins=75)\n",
    "axs[0].set_title(\"Early Leaf\")\n",
    "axs[1].hist(late_ch,bins=75)\n",
    "axs[1].set_title(\"Late Leaf\")\n",
    "axs[2].hist(healthy_ch, bins=75)\n",
    "axs[2].set_title(\"Healthy Leaf\") \n",
    "plt.show()"
   ]
  },
  {
   "cell_type": "code",
   "execution_count": null,
   "metadata": {},
   "outputs": [],
   "source": []
  }
 ],
 "metadata": {
  "kernelspec": {
   "display_name": "Python 3",
   "language": "python",
   "name": "python3"
  },
  "language_info": {
   "codemirror_mode": {
    "name": "ipython",
    "version": 3
   },
   "file_extension": ".py",
   "mimetype": "text/x-python",
   "name": "python",
   "nbconvert_exporter": "python",
   "pygments_lexer": "ipython3",
   "version": "3.8.5"
  }
 },
 "nbformat": 4,
 "nbformat_minor": 4
}
