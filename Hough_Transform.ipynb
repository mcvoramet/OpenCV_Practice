{
 "cells": [
  {
   "cell_type": "code",
   "execution_count": 4,
   "metadata": {},
   "outputs": [],
   "source": [
    "import cv2 as cv\n",
    "import numpy as np\n",
    "import matplotlib.pyplot as plt"
   ]
  },
  {
   "cell_type": "code",
   "execution_count": 98,
   "metadata": {},
   "outputs": [],
   "source": [
    "def houghLine(image):\n",
    "    ''' Basic Hough line transform that builds the accumulator array\n",
    "    Input : image : edge image (canny)\n",
    "    Output : accumulator : the accumulator of hough space\n",
    "             thetas : values of theta (-90 : 90)\n",
    "             rs : values of radius (-max distance : max distance)\n",
    "    '''\n",
    "    #Get image dimensions\n",
    "    # y for rows and x for columns \n",
    "    Ny = image.shape[0]\n",
    "    Nx = image.shape[1]\n",
    "\n",
    "    #Max diatance is diagonal one \n",
    "    Maxdist = int(np.round(np.sqrt(Nx**2 + Ny ** 2)))\n",
    "    \n",
    "    # Theta in range from -90 to 90 degrees\n",
    "    thetas = np.deg2rad(np.arange(-90, 90))\n",
    "    \n",
    "    #Range of radius\n",
    "    rs = np.linspace(-Maxdist, Maxdist, 2*Maxdist)\n",
    "    \n",
    "    accumulator = np.zeros((2 * Maxdist, len(thetas)))\n",
    "    \n",
    "    for y in range(Ny):\n",
    "        \n",
    "         for x in range(Nx):\n",
    "                \n",
    "             # Check if it is an edge pixel\n",
    "             #  NB: y -> rows , x -> columns\n",
    "                \n",
    "            if image[y,x] > 0:\n",
    "                \n",
    "                # Map edge pixel to hough space\n",
    "                for k in range(len(thetas)):\n",
    "                    # Calculate space parameter\n",
    "                    r = x*np.cos(thetas[k]) + y * np.sin(thetas[k])\n",
    "                    # Update the accumulator\n",
    "                    # N.B: r has value -max to max\n",
    "                    # map r to its idx 0 : 2*max\n",
    "                    accumulator[int(r) + Maxdist,k] += 1\n",
    "    return accumulator, thetas, rs"
   ]
  },
  {
   "cell_type": "code",
   "execution_count": 102,
   "metadata": {},
   "outputs": [
    {
     "data": {
      "image/png": "[encoded data removed]",
      "text/plain": [
       "<Figure size 432x288 with 1 Axes>"
      ]
     },
     "metadata": {
      "needs_background": "light"
     },
     "output_type": "display_data"
    },
    {
     "data": {
      "image/png": "[encoded data removed]",
      "text/plain": [
       "<Figure size 432x288 with 1 Axes>"
      ]
     },
     "metadata": {
      "needs_background": "light"
     },
     "output_type": "display_data"
    }
   ],
   "source": [
    "image = np.zeros((150,150))\n",
    "image[75, 75] = 1\n",
    "image[50, 50] = 1\n",
    "image[25, 25] = 1\n",
    "accumulator, thetas, rhos = houghLine(image)\n",
    "plt.figure('Original Image')\n",
    "plt.imshow(image)\n",
    "plt.set_cmap('gray')\n",
    "plt.figure('Hough Space')\n",
    "plt.imshow(accumulator)\n",
    "plt.set_cmap('gray')\n",
    "plt.show()"
   ]
  }
 ],
 "metadata": {
  "kernelspec": {
   "display_name": "Python 3",
   "language": "python",
   "name": "python3"
  },
  "language_info": {
   "codemirror_mode": {
    "name": "ipython",
    "version": 3
   },
   "file_extension": ".py",
   "mimetype": "text/x-python",
   "name": "python",
   "nbconvert_exporter": "python",
   "pygments_lexer": "ipython3",
   "version": "3.8.5"
  }
 },
 "nbformat": 4,
 "nbformat_minor": 4
}
